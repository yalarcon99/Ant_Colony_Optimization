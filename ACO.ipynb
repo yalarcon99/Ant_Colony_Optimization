{
 "cells": [
  {
   "cell_type": "markdown",
   "metadata": {},
   "source": [
    "# Colonia de Hormigas"
   ]
  },
  {
   "cell_type": "markdown",
   "metadata": {},
   "source": [
    "1) Leer la matriz de adyacencia"
   ]
  },
  {
   "cell_type": "code",
   "execution_count": 2,
   "metadata": {},
   "outputs": [],
   "source": [
    "import string, math, random\n",
    "from math import e\n",
    "def distancesFromCoords():\n",
    "    f = open('kroA100.tsp')\n",
    "    data = [line.replace(\"\\n\",\"\").split(\" \")[1:] for line in f.readlines()[6:106]]\n",
    "    coords =  list(map(lambda x: [float(x[0]),float(x[1])], data))\n",
    "    distances = []\n",
    "    for i in range(len(coords)):\n",
    "        row = []\n",
    "        for j in range(len(coords)):\n",
    "            row.append(math.sqrt((coords[i][0]-coords[j][0])**2 + (coords[i][1]-coords[j][1])**2))\n",
    "        distances.append(row)\n",
    "    return distances\n",
    "def z_x(a):\n",
    "    i=0\n",
    "    for i in range(100):\n",
    "        if i==0:\n",
    "            x=M[a[i]][a[i+1]]\n",
    "        else:\n",
    "            x+=M[a[i]][a[i+1]]\n",
    "    return x\n",
    "#Autores: César Sierra Pardo y Yithzak Alarcón\n",
    "M=distancesFromCoords()#Matriz de adyacencia\n",
    "N=1000000\n",
    "Tao = [[0]*100 for i in range(100)]\n",
    "Nu = [[0]*100 for i in range(100)]"
   ]
  },
  {
   "cell_type": "markdown",
   "metadata": {},
   "source": [
    "2) Enviar N hormigas exploradoras e inicializar la matriz de feromonas"
   ]
  },
  {
   "cell_type": "code",
   "execution_count": 3,
   "metadata": {},
   "outputs": [],
   "source": [
    "for i in range(N):\n",
    "    cities = random.sample(range(100), 100)#Crea un vector aleatorio\n",
    "    cities.append(cities[0])\n",
    "    #Route[i][:]=cities\n",
    "    Z=z_x(cities)\n",
    "    for i in range(100):\n",
    "        Tao[cities[i]][cities[i+1]]+=1/Z\n",
    "        Tao[cities[i+1]][cities[i]]+=1/Z"
   ]
  },
  {
   "cell_type": "markdown",
   "metadata": {},
   "source": [
    "3) Inicializar la matriz de Heuristica local"
   ]
  },
  {
   "cell_type": "code",
   "execution_count": 4,
   "metadata": {},
   "outputs": [],
   "source": [
    "for i in range(100):\n",
    "    for j in range(100):\n",
    "        if(i!=j):\n",
    "            Nu[i][j]=1/M[i][j]"
   ]
  },
  {
   "cell_type": "markdown",
   "metadata": {},
   "source": [
    "4) Enviar hormigas a la guerra"
   ]
  },
  {
   "cell_type": "code",
   "execution_count": 5,
   "metadata": {},
   "outputs": [
    {
     "name": "stdout",
     "output_type": "stream",
     "text": [
      "24553\n"
     ]
    }
   ],
   "source": [
    "Ciudad_inicio=50\n",
    "alpha=3\n",
    "beta=4\n",
    "ro=0.12\n",
    "HG=10000\n",
    "Z_min=200000\n",
    "C_act = Ciudad_inicio\n",
    "for i in range(HG):#Construir la ruta de cada hormiga\n",
    "    route= [Ciudad_inicio]*1\n",
    "    c_restantes = random.sample(range(100), 100)#Crea un vector de 1 a 100\n",
    "    c_restantes.remove(Ciudad_inicio)\n",
    "    c_restantes.sort(reverse=True)\n",
    "    c_restantes.reverse()\n",
    "    for m in range(98):#Construir la ruta de las ciudades\n",
    "\n",
    "        #c_restantes.remove(10)\n",
    "        suma_act = 0\n",
    "        ver_sum = 0\n",
    "\n",
    "        #Calcular la sumatoria para calcular la probabilidad de cada camino\n",
    "        for i in range(len(c_restantes)):\n",
    "            suma_act += ((Tao[C_act][c_restantes[i]])**alpha)*((Nu[C_act][c_restantes[i]])**beta)\n",
    "            \n",
    "        prob = [0*1 for i in range(len(c_restantes))]#Defino el vector p\n",
    "\n",
    "        #Se definió el vector de probabilidades con las matrices de heurística y feromonas\n",
    "        if(suma_act!=0):\n",
    "            for j in range(len(c_restantes)):\n",
    "                prob[j] = ((Tao[C_act][c_restantes[j]])**alpha)*((Nu[C_act][c_restantes[j]])**beta)/suma_act\n",
    "        else: \n",
    "            break\n",
    "        count = -1\n",
    "\n",
    "        #Generamos número aleatorio\n",
    "        num = random.random()\n",
    "        sum_prob = 0\n",
    "        bandera=True\n",
    "\n",
    "        #Ciclo para definir la posición de la siguiente ciudad dependiendo de su probabilidad\n",
    "        while(bandera):\n",
    "\n",
    "            if(num<sum_prob):\n",
    "\n",
    "                bandera=False\n",
    "\n",
    "            else:\n",
    "                count += 1\n",
    "                sum_prob+= prob[count]\n",
    "                \n",
    "\n",
    "        #Añadir nueva ciudad en el vector route\n",
    "        route.append(c_restantes[count])\n",
    "        C_act = c_restantes[count]#Actualizar la ciudad actual\n",
    "        c_restantes.remove(c_restantes[count])#Remover la ciudad actual de las posibles\n",
    "\n",
    "        if(len(c_restantes)==1):#Si solo resta una posible ciudad, añadirla a la ruta\n",
    "            route.append(c_restantes[0])\n",
    "            route.append(Ciudad_inicio)#Añadir la ciudad inicial\n",
    "            \n",
    "    #Actualizar la matriz de feromonas\n",
    "    if(suma_act!=0):\n",
    "        Z=z_x(route)\n",
    "        if(Z<Z_min):\n",
    "            Z_min=int(Z)\n",
    "            route_min=list(route)\n",
    "        \n",
    "        for i in range(100):\n",
    "            Tao[route[i]][route[i+1]]+=1/Z\n",
    "            Tao[route[i+1]][route[i]]+=1/Z\n",
    "        #Evaporar feromonas\n",
    "        for i in range(100):\n",
    "            for j in range(100):\n",
    "                if(i!=j):\n",
    "                    Tao[i][j]=(1-ro)*Tao[i][j]\n",
    "print(Z_min)"
   ]
  },
  {
   "cell_type": "code",
   "execution_count": 6,
   "metadata": {},
   "outputs": [
    {
     "data": {
      "text/plain": [
       "24553"
      ]
     },
     "execution_count": 6,
     "metadata": {},
     "output_type": "execute_result"
    }
   ],
   "source": [
    "Z_min"
   ]
  },
  {
   "cell_type": "code",
   "execution_count": 7,
   "metadata": {},
   "outputs": [
    {
     "name": "stdout",
     "output_type": "stream",
     "text": [
      "[50, 57, 60, 19, 56, 6, 8, 86, 24, 80, 68, 63, 39, 53, 1, 43, 49, 72, 81, 94, 12, 75, 32, 36, 4, 67, 84, 29, 38, 95, 77, 51, 47, 99, 70, 40, 13, 42, 2, 45, 28, 33, 82, 54, 11, 26, 85, 34, 76, 61, 59, 22, 97, 90, 44, 31, 10, 14, 16, 58, 73, 20, 71, 83, 9, 89, 48, 5, 62, 46, 25, 3, 64, 65, 69, 93, 21, 15, 87, 98, 35, 37, 23, 17, 78, 52, 18, 74, 96, 55, 79, 30, 88, 41, 7, 91, 0, 66, 92, 27, 50]\n"
     ]
    }
   ],
   "source": [
    "print(route)"
   ]
  },
  {
   "cell_type": "code",
   "execution_count": 8,
   "metadata": {},
   "outputs": [
    {
     "data": {
      "text/plain": [
       "101"
      ]
     },
     "execution_count": 8,
     "metadata": {},
     "output_type": "execute_result"
    }
   ],
   "source": [
    "len(route)"
   ]
  },
  {
   "cell_type": "code",
   "execution_count": null,
   "metadata": {},
   "outputs": [],
   "source": []
  }
 ],
 "metadata": {
  "kernelspec": {
   "display_name": "Python 3",
   "language": "python",
   "name": "python3"
  },
  "language_info": {
   "codemirror_mode": {
    "name": "ipython",
    "version": 3
   },
   "file_extension": ".py",
   "mimetype": "text/x-python",
   "name": "python",
   "nbconvert_exporter": "python",
   "pygments_lexer": "ipython3",
   "version": "3.6.4"
  }
 },
 "nbformat": 4,
 "nbformat_minor": 2
}
